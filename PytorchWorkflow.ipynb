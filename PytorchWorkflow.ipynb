{
  "nbformat": 4,
  "nbformat_minor": 0,
  "metadata": {
    "colab": {
      "provenance": [],
      "gpuType": "T4",
      "collapsed_sections": [
        "gCufRagofgmH",
        "1h8YhbyhtD2h",
        "ciUlDfWWTh6o"
      ],
      "authorship_tag": "ABX9TyM+60NT3knfbFLnUHqhx126",
      "include_colab_link": true
    },
    "kernelspec": {
      "name": "python3",
      "display_name": "Python 3"
    },
    "language_info": {
      "name": "python"
    },
    "accelerator": "GPU"
  },
  "cells": [
    {
      "cell_type": "markdown",
      "metadata": {
        "id": "view-in-github",
        "colab_type": "text"
      },
      "source": [
        "<a href=\"https://colab.research.google.com/github/khushidubeyokok/PyTorch/blob/main/PytorchWorkflow.ipynb\" target=\"_parent\"><img src=\"https://colab.research.google.com/assets/colab-badge.svg\" alt=\"Open In Colab\"/></a>"
      ]
    },
    {
      "cell_type": "markdown",
      "source": [
        "# PYTORCH WORKFLOW"
      ],
      "metadata": {
        "id": "x77YT-q8beUX"
      }
    },
    {
      "cell_type": "code",
      "source": [
        "workflow= {1:\"get data ready\",2:\"build or pick a pretrained model\",3:\"fit the data to model\",4:\"evaluate the model\",5:\"improve the model by experimenting\",6:\"save and load the model\"}\n",
        "workflow"
      ],
      "metadata": {
        "colab": {
          "base_uri": "https://localhost:8080/"
        },
        "id": "_X3PPRihb52i",
        "outputId": "4cd5e0b6-6af6-4269-e466-40314f95bb08"
      },
      "execution_count": null,
      "outputs": [
        {
          "output_type": "execute_result",
          "data": {
            "text/plain": [
              "{1: 'get data ready',\n",
              " 2: 'build or pick a pretrained model',\n",
              " 3: 'fit the data to model',\n",
              " 4: 'evaluate the model',\n",
              " 5: 'improve the model by experimenting',\n",
              " 6: 'save and load the model'}"
            ]
          },
          "metadata": {},
          "execution_count": 119
        }
      ]
    },
    {
      "cell_type": "markdown",
      "source": [
        "from scartch - https://www.youtube.com/watch?v=4061WI4BEfY"
      ],
      "metadata": {
        "id": "9xpnaEe1-a4M"
      }
    },
    {
      "cell_type": "code",
      "source": [
        "#import required libraries\n",
        "import torch\n",
        "from torch import nn\n",
        "import numpy as np\n",
        "import random\n",
        "import matplotlib.pyplot as plt"
      ],
      "metadata": {
        "id": "Yhm4BG8SfGXD"
      },
      "execution_count": null,
      "outputs": []
    },
    {
      "cell_type": "markdown",
      "source": [
        "## Preparing and loading data\n",
        " data can be anything\n",
        " - structured data : excel sheet , text\n",
        " - unstructured data : images , video ,audio, webpage etc\n",
        "---\n",
        "\n",
        " Machine Learning involves two major steps\n",
        " - converting the data into numerical representation\n",
        " - building model to learn patterns in that numerical representation\n",
        "\n",
        "we will use **linear regression formula** to make a straight line with *known* parameters\n"
      ],
      "metadata": {
        "id": "gCufRagofgmH"
      }
    },
    {
      "cell_type": "markdown",
      "source": [
        "### Create data"
      ],
      "metadata": {
        "id": "OOvioMMelRzR"
      }
    },
    {
      "cell_type": "code",
      "source": [
        "# Create known parameters\n",
        "weight=0.26\n",
        "bias=0.18\n",
        "\n",
        "# Create data\n",
        "start=0\n",
        "end=1\n",
        "step=0.02\n",
        "X=torch.arange(start,end,step).unsqueeze(dim=1)\n",
        "Y=weight*X+bias\n",
        "X[:10],Y[:10]"
      ],
      "metadata": {
        "colab": {
          "base_uri": "https://localhost:8080/"
        },
        "id": "k4v9jqU7gCeZ",
        "outputId": "f37d8f47-e7bd-49cd-ebfc-0be5e92e24be"
      },
      "execution_count": null,
      "outputs": [
        {
          "output_type": "execute_result",
          "data": {
            "text/plain": [
              "(tensor([[0.0000],\n",
              "         [0.0200],\n",
              "         [0.0400],\n",
              "         [0.0600],\n",
              "         [0.0800],\n",
              "         [0.1000],\n",
              "         [0.1200],\n",
              "         [0.1400],\n",
              "         [0.1600],\n",
              "         [0.1800]]),\n",
              " tensor([[0.1800],\n",
              "         [0.1852],\n",
              "         [0.1904],\n",
              "         [0.1956],\n",
              "         [0.2008],\n",
              "         [0.2060],\n",
              "         [0.2112],\n",
              "         [0.2164],\n",
              "         [0.2216],\n",
              "         [0.2268]]))"
            ]
          },
          "metadata": {},
          "execution_count": 121
        }
      ]
    },
    {
      "cell_type": "markdown",
      "source": [
        "### Split the data into training data set and test data set\n",
        "\n",
        "three sets of data\n",
        "- Training set\n",
        "- Validating set\n",
        "- Testing set"
      ],
      "metadata": {
        "id": "VTXEvoCwlHr-"
      }
    },
    {
      "cell_type": "code",
      "source": [
        "# lets split the data into training and testing - 80:20\n",
        "SplitLength=int(0.8*len(X))\n",
        "XTrainSet=X[:SplitLength]\n",
        "YTrainSet=Y[:SplitLength]\n",
        "XTestSet=X[SplitLength:]\n",
        "YTestSet=Y[SplitLength:]\n",
        "\n",
        "len(XTrainSet),len(YTrainSet),len(XTestSet),len(YTestSet)"
      ],
      "metadata": {
        "colab": {
          "base_uri": "https://localhost:8080/"
        },
        "id": "e3sOLUaxjSji",
        "outputId": "e251e29f-3c70-4ac5-f918-877c51ecbfe8"
      },
      "execution_count": null,
      "outputs": [
        {
          "output_type": "execute_result",
          "data": {
            "text/plain": [
              "(40, 40, 10, 10)"
            ]
          },
          "metadata": {},
          "execution_count": 122
        }
      ]
    },
    {
      "cell_type": "markdown",
      "source": [
        "###Build a function to visualize this data"
      ],
      "metadata": {
        "id": "oP7tnhHooYiE"
      }
    },
    {
      "cell_type": "code",
      "source": [
        "def plot_predictions(train_data=XTrainSet, train_labels=YTrainSet, test_data=XTestSet, test_labels=YTestSet, predictions=None):\n",
        "  plt.figure(figsize=(10,10))\n",
        "  plt.scatter(train_data,train_labels,c=\"r\",s=4,label=\"Training Data\")\n",
        "  plt.scatter(test_data,test_labels,c=\"g\",s=4,label=\"Testing Data\")\n",
        "  if predictions is not None:\n",
        "    plt.scatter(test_data,predictions,c=\"b\",s=4,label=\"Predictions\")\n",
        "  plt.legend(prop={\"size\":14})"
      ],
      "metadata": {
        "id": "wrqMIFGLru0t"
      },
      "execution_count": null,
      "outputs": []
    },
    {
      "cell_type": "code",
      "source": [
        "plot_predictions()"
      ],
      "metadata": {
        "colab": {
          "base_uri": "https://localhost:8080/",
          "height": 830
        },
        "id": "MIF_iy41q-Gx",
        "outputId": "832a6154-aa9b-4c28-aca6-0ddc2d89e9e2"
      },
      "execution_count": null,
      "outputs": [
        {
          "output_type": "display_data",
          "data": {
            "text/plain": [
              "<Figure size 1000x1000 with 1 Axes>"
            ],
            "image/png": "[encoded data removed]"
          },
          "metadata": {}
        }
      ]
    },
    {
      "cell_type": "markdown",
      "source": [
        "## Build A Model\n",
        " let's build a model to use the red dots to predict the green dots\n"
      ],
      "metadata": {
        "id": "1h8YhbyhtD2h"
      }
    },
    {
      "cell_type": "code",
      "source": [
        "class OurModel(nn.Module):  # nn.module is the Base class for all neural network modules\n",
        "  def __init__(self):\n",
        "    super().__init__() # initialize the attributes of the nn.module class.\n",
        "    self.weights=nn.Parameter(torch.randn(1,requires_grad=True,dtype=torch.float)) #start with random weights (this will get adjusted as the model learns)\n",
        "    self.bias=nn.Parameter(torch.randn(1,requires_grad=True,dtype=torch.float)) # start with random biases (this will get adjusted as the model learns)\n",
        "\n",
        "  def forward(self,x:torch.Tensor)->torch.Tensor:\n",
        "    return self.weights*x+self.bias #linear regression formula"
      ],
      "metadata": {
        "id": "ADlYUlQYG5SK"
      },
      "execution_count": null,
      "outputs": []
    },
    {
      "cell_type": "markdown",
      "source": [
        "### PyTorch has four essential modules you can use to create almost any kind of neural network you can imagine.\n",
        "They are:\n",
        "-  `torch.nn`Contains all of the building blocks for computational graphs , `torch.nn.Parameter` Stores tensors that can be used with nn.Module , `torch.nn.module` The base class for all neural network modules\n",
        "-`torch.optim` Contains various optimization algorithms\n",
        "- `torch.utils.data.Dataset` allow you to use pre-loaded datasets as well as your own data. Represent a map between key{label} and values{data}\n",
        "- `torch.utils.data.DataLoader.` represents a Python iterable over a dataset"
      ],
      "metadata": {
        "id": "7UQU7dNm-fSX"
      }
    },
    {
      "cell_type": "markdown",
      "source": [
        "### Check contents of our model\n",
        "to check the parameters use `.parameter()`"
      ],
      "metadata": {
        "id": "SxnpkmG9LmXz"
      }
    },
    {
      "cell_type": "code",
      "source": [
        "torch.manual_seed(2618)\n",
        "\n",
        "#Create an instance of our model\n",
        "model_0=OurModel()\n",
        "\n",
        "#Check the parameters of our model\n",
        "list(model_0.parameters())"
      ],
      "metadata": {
        "colab": {
          "base_uri": "https://localhost:8080/"
        },
        "id": "DB-QMPq4MQOh",
        "outputId": "9971a7fc-9c69-4b2d-9f40-0d01ff2d9f55"
      },
      "execution_count": null,
      "outputs": [
        {
          "output_type": "execute_result",
          "data": {
            "text/plain": [
              "[Parameter containing:\n",
              " tensor([-1.8891], requires_grad=True),\n",
              " Parameter containing:\n",
              " tensor([-0.9128], requires_grad=True)]"
            ]
          },
          "metadata": {},
          "execution_count": 126
        }
      ]
    },
    {
      "cell_type": "code",
      "source": [
        "# Better way to check the content\n",
        "model_0.state_dict()"
      ],
      "metadata": {
        "colab": {
          "base_uri": "https://localhost:8080/"
        },
        "id": "_A6PbZJuN0Pl",
        "outputId": "bee0b194-e947-4187-9921-6107939a50d8"
      },
      "execution_count": null,
      "outputs": [
        {
          "output_type": "execute_result",
          "data": {
            "text/plain": [
              "OrderedDict([('weights', tensor([-1.8891])), ('bias', tensor([-0.9128]))])"
            ]
          },
          "metadata": {},
          "execution_count": 127
        }
      ]
    },
    {
      "cell_type": "markdown",
      "source": [
        "### Making Predictions using `torch.inference.mode()`\n",
        "\n",
        "when we pass the data to our model , it runs it through forward() method"
      ],
      "metadata": {
        "id": "LqfW73ihN7vt"
      }
    },
    {
      "cell_type": "code",
      "source": [
        "## Make predictions with our model\n",
        "\n",
        "with torch.inference_mode():\n",
        "  Y_predictions=model_0(XTestSet)\n",
        "print(Y_predictions)\n",
        "print(YTestSet)"
      ],
      "metadata": {
        "colab": {
          "base_uri": "https://localhost:8080/"
        },
        "id": "pbrN38RjPCJ8",
        "outputId": "1cf8489f-7579-499b-d0e9-759b0434fabb"
      },
      "execution_count": null,
      "outputs": [
        {
          "output_type": "stream",
          "name": "stdout",
          "text": [
            "tensor([[-2.4241],\n",
            "        [-2.4619],\n",
            "        [-2.4997],\n",
            "        [-2.5375],\n",
            "        [-2.5753],\n",
            "        [-2.6130],\n",
            "        [-2.6508],\n",
            "        [-2.6886],\n",
            "        [-2.7264],\n",
            "        [-2.7642]])\n",
            "tensor([[0.3880],\n",
            "        [0.3932],\n",
            "        [0.3984],\n",
            "        [0.4036],\n",
            "        [0.4088],\n",
            "        [0.4140],\n",
            "        [0.4192],\n",
            "        [0.4244],\n",
            "        [0.4296],\n",
            "        [0.4348]])\n"
          ]
        }
      ]
    },
    {
      "cell_type": "markdown",
      "source": [
        "### Plot predictions"
      ],
      "metadata": {
        "id": "dwT8q4BlRAIh"
      }
    },
    {
      "cell_type": "code",
      "source": [
        "plot_predictions(predictions=Y_predictions) # our goal is to bring the blue (prediction)line close to green(testdata) line"
      ],
      "metadata": {
        "colab": {
          "base_uri": "https://localhost:8080/",
          "height": 830
        },
        "id": "qbwPz1OiTGHl",
        "outputId": "49c8a924-44df-4490-8b64-a1b5bbf3986b"
      },
      "execution_count": null,
      "outputs": [
        {
          "output_type": "display_data",
          "data": {
            "text/plain": [
              "<Figure size 1000x1000 with 1 Axes>"
            ],
            "image/png": "[encoded data removed]"
          },
          "metadata": {}
        }
      ]
    },
    {
      "cell_type": "markdown",
      "source": [
        "## 3. Train and evaluate Model\n",
        "Training the model leads to move from unknown parameters (random values) to known parameters\n",
        "\n",
        "* Loss function\n",
        "* Optimizer"
      ],
      "metadata": {
        "id": "ciUlDfWWTh6o"
      }
    },
    {
      "cell_type": "markdown",
      "source": [
        "### Setting up a Loss function\n",
        "\n",
        "- It measure how wrong our model's predictions are to the ideal outputs\n",
        "- The goal is make the loss function minimum\n",
        "\n",
        "- https://pytorch.org/docs/stable/nn.html#loss-functions"
      ],
      "metadata": {
        "id": "_NHTJIuEahL1"
      }
    },
    {
      "cell_type": "code",
      "source": [
        "lossfn=nn.L1Loss() # Mean absolute error"
      ],
      "metadata": {
        "id": "fx-i8mo2af5q"
      },
      "execution_count": null,
      "outputs": []
    },
    {
      "cell_type": "markdown",
      "source": [
        "### Setting up an optimiser\n",
        "\n",
        "Takes into account the loss of a model and adjusts the parametes to improve the loss function\n",
        "- https://pytorch.org/docs/stable/optim.html"
      ],
      "metadata": {
        "id": "TJgT7cc6SNuA"
      }
    },
    {
      "cell_type": "code",
      "source": [
        "optimiser=torch.optim.SGD(params=model_0.parameters(),lr=0.001) ## lr is a hyper parameter , SGD is stochastic gradient descent"
      ],
      "metadata": {
        "id": "rk-guEWjSWZ_"
      },
      "execution_count": null,
      "outputs": []
    },
    {
      "cell_type": "markdown",
      "source": [
        "### Building a training and testing loop in Pytorch\n",
        "\n",
        "\n",
        "\n",
        "1. Forward pass - The model goes through all of the training data once, performing its forward() function calculations.\n",
        "2.Calculate the loss -\tThe model's outputs (predictions) are compared to the ground truth and evaluated to see how wrong they are.\n",
        "3. Zero gradients- The optimizers gradients are set to zero (they are accumulated by default) so they can be recalculated for the specific training step.\n",
        "4. Perform backpropagation -  on the loss\tComputes the gradient of the loss with respect for every model parameter to be updated (each parameter with requires_grad=True). This is known as backpropagation, hence \"backwards\".\n",
        "5. Update the optimizer (gradient descent)\t- Update the parameters with requires_grad=True with respect to the loss gradients in order to improve them.\n",
        "\n"
      ],
      "metadata": {
        "id": "bnqWs0pH2PRR"
      }
    },
    {
      "cell_type": "code",
      "source": [
        "epochs=500\n",
        "epochCount=[]\n",
        "trainLossList=[]\n",
        "testLossList=[]\n",
        "\n",
        "# 0.Loop through the data\n",
        "for epoch in range(epochs):\n",
        "  model_0.train() # put the model in train mode (train mode sets all parameters that req gradient to reg gradients)\n",
        "\n",
        "  # 1.Forward pass\n",
        "  Y_predictions=model_0(XTrainSet)\n",
        "\n",
        "  # 2.Calculate the loss\n",
        "  loss=lossfn(Y_predictions,YTrainSet)\n",
        "\n",
        "  # 3.Optimiser zero grad\n",
        "  optimiser.zero_grad()\n",
        "\n",
        "  # 4.Perform backpropagation\n",
        "  loss.backward()\n",
        "\n",
        "  # 5.Update the optimizer\n",
        "  optimiser.step() # by default opyimiser changes will accumulate through the loop , so we have to zero the grad in step 3\n",
        "\n",
        "\n",
        "  ### testing\n",
        "  model_0.eval() # put the model in eval mode (eval mode turns off gradient tracking and other settings not needed for testing)\n",
        "  with torch.inference_mode(): ##turns off gradient tracking\n",
        "\n",
        "    # 1. do the forward pass\n",
        "    testPreds=model_0(XTestSet)\n",
        "\n",
        "    # 2. calculate the loss\n",
        "    testLoss=lossfn(testPreds,YTestSet)\n",
        "\n",
        "  if epoch % 100 == 0:\n",
        "    epochCount.append(epoch)\n",
        "    trainLossList.append(loss)\n",
        "    testLossList.append(testLoss)\n",
        "    print(f\"|epoch={epoch}|,|trainingloss={loss}|,|testingloss={testLoss}|\")\n",
        "    print(model_0.state_dict())"
      ],
      "metadata": {
        "id": "Aezi1zo9D7Ke",
        "colab": {
          "base_uri": "https://localhost:8080/"
        },
        "collapsed": true,
        "outputId": "0428a94f-d416-4ac8-8278-d1311923464c"
      },
      "execution_count": null,
      "outputs": [
        {
          "output_type": "stream",
          "name": "stdout",
          "text": [
            "|epoch=0|,|trainingloss=0.05738980695605278|,|testingloss=0.08121578395366669|\n",
            "OrderedDict([('weight', tensor([0.5042])), ('bias', tensor([0.0439]))])\n",
            "|epoch=100|,|trainingloss=0.05738980695605278|,|testingloss=0.08121578395366669|\n",
            "OrderedDict([('weight', tensor([0.5042])), ('bias', tensor([0.0439]))])\n",
            "|epoch=200|,|trainingloss=0.05738980695605278|,|testingloss=0.08121578395366669|\n",
            "OrderedDict([('weight', tensor([0.5042])), ('bias', tensor([0.0439]))])\n",
            "|epoch=300|,|trainingloss=0.05738980695605278|,|testingloss=0.08121578395366669|\n",
            "OrderedDict([('weight', tensor([0.5042])), ('bias', tensor([0.0439]))])\n",
            "|epoch=400|,|trainingloss=0.05738980695605278|,|testingloss=0.08121578395366669|\n",
            "OrderedDict([('weight', tensor([0.5042])), ('bias', tensor([0.0439]))])\n"
          ]
        }
      ]
    },
    {
      "cell_type": "code",
      "source": [
        "## Plot loss curves\n",
        "plt.plot(epochCount,np.array(torch.Tensor(trainLossList).cpu().numpy()),label=\"trainingloss\",c='b') # matplotlib works on numpy\n",
        "plt.plot(epochCount,testLossList,label=\"testloss\",c='r')\n",
        "plt.title('Training and Testing loss curves')\n",
        "plt.xlabel('epochs')\n",
        "plt.ylabel('loss')\n",
        "plt.legend();"
      ],
      "metadata": {
        "colab": {
          "base_uri": "https://localhost:8080/",
          "height": 472
        },
        "id": "YoQeyqHFpVM_",
        "outputId": "3514c683-80aa-40c3-e7ee-86ea9f08c341"
      },
      "execution_count": null,
      "outputs": [
        {
          "output_type": "display_data",
          "data": {
            "text/plain": [
              "<Figure size 640x480 with 1 Axes>"
            ],
            "image/png": "[encoded data removed]"
          },
          "metadata": {}
        }
      ]
    },
    {
      "cell_type": "code",
      "source": [
        "# plot test results\n",
        "plot_predictions(predictions=testPreds)"
      ],
      "metadata": {
        "colab": {
          "base_uri": "https://localhost:8080/",
          "height": 599
        },
        "id": "jcDDy_Psi_Ab",
        "outputId": "005f7856-7e36-4287-adb4-a3b7be3c4ef2"
      },
      "execution_count": null,
      "outputs": [
        {
          "output_type": "display_data",
          "data": {
            "text/plain": [
              "<Figure size 700x700 with 1 Axes>"
            ],
            "image/png": "[encoded data removed]"
          },
          "metadata": {}
        }
      ]
    },
    {
      "cell_type": "markdown",
      "source": [
        "## Save and load the model\n",
        "\n",
        "https://pytorch.org/tutorials/beginner/saving_loading_models.html\n",
        "\n",
        "Three methods to save and load a model in pytorch:\n",
        "- `torch.save()` -> Saves a serialized object to disk using Python's pickle utility. Models, tensors and various other Python objects like dictionaries can be saved using torch.save.\n",
        "- `torch.load()` -> Uses pickle's unpickling features to deserialize and load pickled Python object files (like models, tensors or dictionaries) into memory.\n",
        "- `torch.nn.Module.load_state_dict`-> Loads a model's parameter dictionary (model.state_dict()) using a saved state_dict() object.\n"
      ],
      "metadata": {
        "id": "s4BPYrLyyH9X"
      }
    },
    {
      "cell_type": "code",
      "source": [
        "from pathlib import Path\n",
        "\n",
        "# 1. create models directory\n",
        "ModelPath=Path('models')\n",
        "ModelPath.mkdir(parents=True,exist_ok=True)\n",
        "\n",
        "# 2. create model save path\n",
        "ModelName=\"model_0\"\n",
        "ModelSavePath=ModelPath/ModelName\n",
        "\n",
        "ModelSavePath\n",
        "\n",
        "# 3. Save the model\n",
        "torch.save(obj=model_0.state_dict(),\n",
        "           f=ModelSavePath)"
      ],
      "metadata": {
        "id": "gpi-ViOJyL2S"
      },
      "execution_count": null,
      "outputs": []
    },
    {
      "cell_type": "code",
      "source": [
        "!ls -l models"
      ],
      "metadata": {
        "colab": {
          "base_uri": "https://localhost:8080/"
        },
        "id": "N1xOpwx84ZSh",
        "outputId": "ea26d83b-ac30-4d38-858b-eee4d72d429c"
      },
      "execution_count": null,
      "outputs": [
        {
          "output_type": "stream",
          "name": "stdout",
          "text": [
            "total 4\n",
            "-rw-r--r-- 1 root root 1496 Sep  1 09:31 model_0\n"
          ]
        }
      ]
    },
    {
      "cell_type": "markdown",
      "source": [
        "### Loading our pytorch model\n",
        "\n",
        "Because we only saved the model's `state_dict()` which is a dictionary of learned parameters and not the entire model, we first have to load the `state_dict()` with `torch.load()` and then pass that `state_dict()` to a new instance of our model (which is a subclass of `nn.Module`).\n",
        "\n",
        "\n"
      ],
      "metadata": {
        "id": "zbWBlzPw4_A4"
      }
    },
    {
      "cell_type": "code",
      "source": [
        "# create a new instance\n",
        "loadedModel_0=OurModel()\n",
        "print(loadedModel_0.state_dict())\n",
        "\n",
        "# load the statedict of model_0 to loadedmodel\n",
        "loadedModel_0.load_state_dict(torch.load(f=ModelSavePath))\n",
        "print(loadedModel_0.state_dict())\n",
        "print(model_0.state_dict())"
      ],
      "metadata": {
        "colab": {
          "base_uri": "https://localhost:8080/"
        },
        "id": "OW2u1PJC5B6C",
        "outputId": "ef100dbe-3c4f-4703-a327-3dce34fc3754"
      },
      "execution_count": null,
      "outputs": [
        {
          "output_type": "stream",
          "name": "stdout",
          "text": [
            "OrderedDict([('weights', tensor([0.5987])), ('bias', tensor([0.5034]))])\n",
            "OrderedDict([('weights', tensor([-1.6941])), ('bias', tensor([-0.4128]))])\n",
            "OrderedDict([('weights', tensor([-1.6941])), ('bias', tensor([-0.4128]))])\n"
          ]
        },
        {
          "output_type": "stream",
          "name": "stderr",
          "text": [
            "<ipython-input-137-25d971c40e32>:6: FutureWarning: You are using `torch.load` with `weights_only=False` (the current default value), which uses the default pickle module implicitly. It is possible to construct malicious pickle data which will execute arbitrary code during unpickling (See https://github.com/pytorch/pytorch/blob/main/SECURITY.md#untrusted-models for more details). In a future release, the default value for `weights_only` will be flipped to `True`. This limits the functions that could be executed during unpickling. Arbitrary objects will no longer be allowed to be loaded via this mode unless they are explicitly allowlisted by the user via `torch.serialization.add_safe_globals`. We recommend you start setting `weights_only=True` for any use case where you don't have full control of the loaded file. Please open an issue on GitHub for any issues related to this experimental feature.\n",
            "  loadedModel_0.load_state_dict(torch.load(f=ModelSavePath))\n"
          ]
        }
      ]
    },
    {
      "cell_type": "markdown",
      "source": [
        "### evaluate loaded model"
      ],
      "metadata": {
        "id": "xL9cj1sy2T1x"
      }
    },
    {
      "cell_type": "code",
      "source": [
        "with torch.inference_mode():\n",
        "  loadedmodelpreds=loadedModel_0(XTestSet)\n",
        "  savedmodelpreds=model_0(XTestSet)\n",
        "\n",
        "loadedmodelpreds==savedmodelpreds"
      ],
      "metadata": {
        "colab": {
          "base_uri": "https://localhost:8080/"
        },
        "id": "rBKTalvQ2bUY",
        "outputId": "ba1af9bd-ca0e-4991-a10e-cc78b8a22b40"
      },
      "execution_count": null,
      "outputs": [
        {
          "output_type": "execute_result",
          "data": {
            "text/plain": [
              "tensor([[True],\n",
              "        [True],\n",
              "        [True],\n",
              "        [True],\n",
              "        [True],\n",
              "        [True],\n",
              "        [True],\n",
              "        [True],\n",
              "        [True],\n",
              "        [True]])"
            ]
          },
          "metadata": {},
          "execution_count": 138
        }
      ]
    },
    {
      "cell_type": "markdown",
      "source": [
        "# Putting everything together (using `nn.Parameter()`)"
      ],
      "metadata": {
        "id": "8EU4u5rremTY"
      }
    },
    {
      "cell_type": "code",
      "source": [
        "## importing important libraries\n",
        "import torch\n",
        "from torch import nn\n",
        "import numpy as np\n",
        "import matplotlib.pyplot as plt\n",
        "import random"
      ],
      "metadata": {
        "id": "2uEuI0sle8FP"
      },
      "execution_count": null,
      "outputs": []
    },
    {
      "cell_type": "code",
      "source": [
        "## device agnostic code\n",
        "if torch.cuda.is_available():\n",
        "  device=\"cuda\"\n",
        "else:\n",
        "   device=\"cpu\"\n",
        "\n",
        "print(f\"device:{device}\")"
      ],
      "metadata": {
        "colab": {
          "base_uri": "https://localhost:8080/"
        },
        "id": "ZY9x-i3OgRFn",
        "outputId": "9256f831-1345-479d-ece7-05cbf3b19b2e"
      },
      "execution_count": null,
      "outputs": [
        {
          "output_type": "stream",
          "name": "stdout",
          "text": [
            "device:cpu\n"
          ]
        }
      ]
    },
    {
      "cell_type": "code",
      "source": [
        "# Data\n",
        "\n",
        "weight=0.5\n",
        "bias=0.05\n",
        "\n",
        "start=0\n",
        "stop=1\n",
        "step=0.02\n",
        "x = torch.arange(start,stop,step).unsqueeze(dim=1)\n",
        "y=weight*x+bias\n",
        "\n",
        "length=int(0.8*len(x))\n",
        "xtrainset = x[:length]\n",
        "ytrainset = y[:length]\n",
        "xtestset= x[length:]\n",
        "ytestset= y[length:]"
      ],
      "metadata": {
        "id": "BJOyM9Kbhi_p"
      },
      "execution_count": null,
      "outputs": []
    },
    {
      "cell_type": "code",
      "source": [
        "#set  up a function to visualise data\n",
        "\n",
        "def plot_predictions(train_data=xtrainset,train_labels=ytrainset, test_data=xtestset, test_labels=ytestset, predictions=None):\n",
        "  plt.figure(figsize=(7,7))\n",
        "  plt.scatter(train_data,train_labels,c='b',s=5,label='trainingdata')\n",
        "  plt.scatter(test_data,test_labels,c='r',s=5,label='testingdata')\n",
        "\n",
        "  if predictions is not None:\n",
        "    plt.scatter(test_data,predictions,c='g',s=5,label='predictions')\n",
        "  plt.legend(prop={\"size\":9})\n",
        "\n",
        "plot_predictions()"
      ],
      "metadata": {
        "colab": {
          "base_uri": "https://localhost:8080/",
          "height": 599
        },
        "collapsed": true,
        "id": "rAleJ4o2AIrL",
        "outputId": "0feb022c-07b9-4218-905e-3823dfddd1a9"
      },
      "execution_count": null,
      "outputs": [
        {
          "output_type": "display_data",
          "data": {
            "text/plain": [
              "<Figure size 700x700 with 1 Axes>"
            ],
            "image/png": "[encoded data removed]"
          },
          "metadata": {}
        }
      ]
    },
    {
      "cell_type": "code",
      "source": [
        "# build model\n",
        "class ourmodel(nn.Module):\n",
        "  def __init__(self):\n",
        "    super().__init__()\n",
        "    self.weight=nn.Parameter(torch.rand(1,requires_grad=True,dtype=torch.float))\n",
        "    self.bias=nn.Parameter(torch.rand(1,requires_grad=True,dtype=torch.float))\n",
        "\n",
        "  def forward(self,x:torch.Tensor)->torch.Tensor:\n",
        "    return x*self.weight+self.bias\n"
      ],
      "metadata": {
        "id": "AlRaHu-Ttp8t"
      },
      "execution_count": null,
      "outputs": []
    },
    {
      "cell_type": "code",
      "source": [
        "# create instance of our model\n",
        "torch.manual_seed(255)\n",
        "model_0=ourmodel()\n",
        "model_0.state_dict()"
      ],
      "metadata": {
        "colab": {
          "base_uri": "https://localhost:8080/"
        },
        "id": "cFUHQwnm_hck",
        "outputId": "ca3d1340-d3b4-4ddf-fbf8-b56ea921f3f7",
        "collapsed": true
      },
      "execution_count": null,
      "outputs": [
        {
          "output_type": "execute_result",
          "data": {
            "text/plain": [
              "OrderedDict([('weight', tensor([0.7677])), ('bias', tensor([0.0509]))])"
            ]
          },
          "metadata": {},
          "execution_count": 144
        }
      ]
    },
    {
      "cell_type": "code",
      "source": [
        "# make predicitons\n",
        "with torch.inference_mode():\n",
        "   ypreds=model_0(xtestset)"
      ],
      "metadata": {
        "id": "e6imcWbC_r84"
      },
      "execution_count": null,
      "outputs": []
    },
    {
      "cell_type": "code",
      "source": [
        "# plot predictions\n",
        "plot_predictions(predictions=ypreds)"
      ],
      "metadata": {
        "colab": {
          "base_uri": "https://localhost:8080/",
          "height": 599
        },
        "collapsed": true,
        "id": "Tvt5XskPB5Wy",
        "outputId": "387cc1c7-907f-40dc-e848-9e1bd940c64e"
      },
      "execution_count": null,
      "outputs": [
        {
          "output_type": "display_data",
          "data": {
            "text/plain": [
              "<Figure size 700x700 with 1 Axes>"
            ],
            "image/png": "[encoded data removed]"
          },
          "metadata": {}
        }
      ]
    },
    {
      "cell_type": "code",
      "source": [
        "# set up loss function\n",
        "lossfn=nn.L1Loss()\n",
        "\n",
        "#set up optimiser\n",
        "optimiser=torch.optim.SGD(params=model_0.parameters(),lr=0.01)"
      ],
      "metadata": {
        "id": "VbzQiuvoJbxf"
      },
      "execution_count": null,
      "outputs": []
    },
    {
      "cell_type": "code",
      "source": [
        "# train and test model\n",
        "\n",
        "epochs=200\n",
        "for epoch in range(epochs):\n",
        "  model_0.train() # turn on training mode\n",
        "  ypredictions=model_0(xtrainset) # make prediciotns\n",
        "  loss=lossfn(ypredictions,ytrainset) #calculate loss\n",
        "  optimiser.zero_grad() #set optimiser to zero\n",
        "  loss.backward() # back propogation\n",
        "  optimiser.step() #step optimiser\n",
        "\n",
        "  model_0.eval()\n",
        "  with torch.inference_mode():\n",
        "    ytestpreds=model_0(xtestset)\n",
        "    testloss=lossfn(ytestpreds,ytestset)\n",
        "\n",
        "  if epoch % 20 == 0:\n",
        "    print(f\"|epoch:{epoch}|,|trainloss:{loss}|,|testloss:{testloss}|\")"
      ],
      "metadata": {
        "colab": {
          "base_uri": "https://localhost:8080/"
        },
        "collapsed": true,
        "id": "7qpj4j8rISLi",
        "outputId": "27dedbc1-f7bb-4b07-a6b1-8067972b46f3"
      },
      "execution_count": null,
      "outputs": [
        {
          "output_type": "stream",
          "name": "stdout",
          "text": [
            "|epoch:0|,|trainloss:0.10527446120977402|,|testloss:0.2256779670715332|\n",
            "|epoch:20|,|trainloss:0.04130714014172554|,|testloss:0.10315179824829102|\n",
            "|epoch:40|,|trainloss:0.0340285524725914|,|testloss:0.0790868028998375|\n",
            "|epoch:60|,|trainloss:0.027160998433828354|,|testloss:0.0625419020652771|\n",
            "|epoch:80|,|trainloss:0.02029617317020893|,|testloss:0.04668385908007622|\n",
            "|epoch:100|,|trainloss:0.013424632139503956|,|testloss:0.03082585707306862|\n",
            "|epoch:120|,|trainloss:0.00655372953042388|,|testloss:0.014280939474701881|\n",
            "|epoch:140|,|trainloss:0.004498512018471956|,|testloss:0.011086779646575451|\n",
            "|epoch:160|,|trainloss:0.004498512018471956|,|testloss:0.011086779646575451|\n",
            "|epoch:180|,|trainloss:0.004498512018471956|,|testloss:0.011086779646575451|\n"
          ]
        }
      ]
    },
    {
      "cell_type": "code",
      "source": [
        "model_0.state_dict(), weight,bias"
      ],
      "metadata": {
        "colab": {
          "base_uri": "https://localhost:8080/"
        },
        "id": "tQkX8VyjSpln",
        "outputId": "7c6697c9-ea0f-4fac-e732-2b454abfad2c"
      },
      "execution_count": null,
      "outputs": [
        {
          "output_type": "execute_result",
          "data": {
            "text/plain": [
              "(OrderedDict([('weight', tensor([0.5042])), ('bias', tensor([0.0439]))]),\n",
              " 0.5,\n",
              " 0.05)"
            ]
          },
          "metadata": {},
          "execution_count": 149
        }
      ]
    },
    {
      "cell_type": "code",
      "source": [
        "# plot new preds\n",
        "plot_predictions(predictions=ytestpreds)"
      ],
      "metadata": {
        "colab": {
          "base_uri": "https://localhost:8080/",
          "height": 599
        },
        "id": "_HJHxnRrlmDI",
        "outputId": "3e0ad9da-c252-4b84-d820-f5d2eb124bed"
      },
      "execution_count": null,
      "outputs": [
        {
          "output_type": "display_data",
          "data": {
            "text/plain": [
              "<Figure size 700x700 with 1 Axes>"
            ],
            "image/png": "[encoded data removed]"
          },
          "metadata": {}
        }
      ]
    },
    {
      "cell_type": "code",
      "source": [
        "# save and load the model\n",
        "from pathlib import Path\n",
        "\n",
        "modelpath=Path('using_nn.Parameter') #create save directory\n",
        "modelpath.mkdir(parents=True,exist_ok=True)\n",
        "modelname = \"newmodel.pth\"\n",
        "modelsavepath=modelpath/modelname #create save path\n",
        "\n",
        "torch.save(obj=model_0.state_dict(),f=modelsavepath) #save model parameter\n",
        "# create a new instance\n",
        "loadedModel_0=ourmodel()\n",
        "print(f\"before loading {loadedModel_0.state_dict()}\")\n",
        "# load the statedict of model_0 to loadedmodel\n",
        "loadedModel_0.load_state_dict(torch.load(f=modelsavepath))\n",
        "print(loadedModel_0.state_dict())\n",
        "print(model_0.state_dict())"
      ],
      "metadata": {
        "colab": {
          "base_uri": "https://localhost:8080/"
        },
        "id": "tYdS13hXlypr",
        "outputId": "53400eae-09cb-48d6-d4b3-8f5a33d0565f"
      },
      "execution_count": null,
      "outputs": [
        {
          "output_type": "stream",
          "name": "stdout",
          "text": [
            "before loading OrderedDict([('weight', tensor([0.0971])), ('bias', tensor([0.9270]))])\n",
            "OrderedDict([('weight', tensor([0.5042])), ('bias', tensor([0.0439]))])\n",
            "OrderedDict([('weight', tensor([0.5042])), ('bias', tensor([0.0439]))])\n"
          ]
        },
        {
          "output_type": "stream",
          "name": "stderr",
          "text": [
            "<ipython-input-151-756d423bece3>:14: FutureWarning: You are using `torch.load` with `weights_only=False` (the current default value), which uses the default pickle module implicitly. It is possible to construct malicious pickle data which will execute arbitrary code during unpickling (See https://github.com/pytorch/pytorch/blob/main/SECURITY.md#untrusted-models for more details). In a future release, the default value for `weights_only` will be flipped to `True`. This limits the functions that could be executed during unpickling. Arbitrary objects will no longer be allowed to be loaded via this mode unless they are explicitly allowlisted by the user via `torch.serialization.add_safe_globals`. We recommend you start setting `weights_only=True` for any use case where you don't have full control of the loaded file. Please open an issue on GitHub for any issues related to this experimental feature.\n",
            "  loadedModel_0.load_state_dict(torch.load(f=modelsavepath))\n"
          ]
        }
      ]
    },
    {
      "cell_type": "markdown",
      "source": [
        "# Putting Everything Together Using `nn.Linear()`"
      ],
      "metadata": {
        "id": "dKdNjE2wpWXH"
      }
    },
    {
      "cell_type": "code",
      "source": [
        "## importing important libraries\n",
        "import torch\n",
        "from torch import nn\n",
        "import numpy as np\n",
        "import matplotlib.pyplot as plt\n",
        "import random"
      ],
      "metadata": {
        "id": "SBGaiSHopa7f"
      },
      "execution_count": null,
      "outputs": []
    },
    {
      "cell_type": "code",
      "source": [
        "## device agnostic code\n",
        "if torch.cuda.is_available():\n",
        "  device=\"cuda\"\n",
        "else:\n",
        "   device=\"cpu\"\n",
        "\n",
        "print(f\"device:{device}\")"
      ],
      "metadata": {
        "colab": {
          "base_uri": "https://localhost:8080/"
        },
        "id": "rqjsmgLpxas4",
        "outputId": "211dccb7-c021-4aa4-dda8-b3d454aca740"
      },
      "execution_count": null,
      "outputs": [
        {
          "output_type": "stream",
          "name": "stdout",
          "text": [
            "device:cpu\n"
          ]
        }
      ]
    },
    {
      "cell_type": "code",
      "source": [
        "# Data\n",
        "weight=0.5\n",
        "bias=0.05\n",
        "start=0\n",
        "stop=1\n",
        "step=0.02\n",
        "x = torch.arange(start,stop,step).unsqueeze(dim=1)\n",
        "y=weight*x+bias\n",
        "\n",
        "length=int(0.8*len(x))\n",
        "xtrainset = x[:length]\n",
        "ytrainset = y[:length]\n",
        "xtestset= x[length:]\n",
        "ytestset= y[length:]"
      ],
      "metadata": {
        "id": "YhlsNKjQxdmz"
      },
      "execution_count": null,
      "outputs": []
    },
    {
      "cell_type": "code",
      "source": [
        "#set  up a function to visualise data\n",
        "\n",
        "def plot_predictions(train_data=xtrainset,train_labels=ytrainset, test_data=xtestset, test_labels=ytestset, predictions=None):\n",
        "  plt.figure(figsize=(7,7))\n",
        "  plt.scatter(train_data,train_labels,c='b',s=5,label='trainingdata')\n",
        "  plt.scatter(test_data,test_labels,c='r',s=5,label='testingdata')\n",
        "\n",
        "  if predictions is not None:\n",
        "    plt.scatter(test_data,predictions,c='g',s=5,label='predictions')\n",
        "  plt.legend(prop={\"size\":9})\n",
        "\n",
        "plot_predictions()"
      ],
      "metadata": {
        "colab": {
          "base_uri": "https://localhost:8080/",
          "height": 599
        },
        "id": "vWBvHcKfxh9B",
        "outputId": "8171700f-3525-48e8-eb4b-b4e31d46da0d"
      },
      "execution_count": null,
      "outputs": [
        {
          "output_type": "display_data",
          "data": {
            "text/plain": [
              "<Figure size 700x700 with 1 Axes>"
            ],
            "image/png": "[encoded data removed]"
          },
          "metadata": {}
        }
      ]
    },
    {
      "cell_type": "code",
      "source": [
        "# build model\n",
        "class Linearmodel(nn.Module):\n",
        "  def __init__(self):\n",
        "    super().__init__()\n",
        "    ## use nn.Linear() for creating model parameters\n",
        "    self.linear_layer=nn.Linear(in_features=1,out_features=1) # takes one input apllies linear transformation and gives one output\n",
        "\n",
        "  def forward(self,x:torch.Tensor)->torch.Tensor:\n",
        "    return self.linear_layer(x)\n"
      ],
      "metadata": {
        "id": "CJaNlAjWxpG3"
      },
      "execution_count": null,
      "outputs": []
    },
    {
      "cell_type": "code",
      "source": [
        "# create instance of our model\n",
        "torch.manual_seed(25)\n",
        "model=Linearmodel()\n",
        "model.state_dict()"
      ],
      "metadata": {
        "colab": {
          "base_uri": "https://localhost:8080/"
        },
        "id": "VNCbzxNtzlXd",
        "outputId": "92d8ddc6-7ba8-4d21-ab61-f0a0ec9be49b"
      },
      "execution_count": null,
      "outputs": [
        {
          "output_type": "execute_result",
          "data": {
            "text/plain": [
              "OrderedDict([('linear_layer.weight', tensor([[0.5036]])),\n",
              "             ('linear_layer.bias', tensor([-0.6142]))])"
            ]
          },
          "metadata": {},
          "execution_count": 157
        }
      ]
    },
    {
      "cell_type": "code",
      "source": [
        "# make predicitons\n",
        "with torch.inference_mode():\n",
        "   ypreds=model_0(xtestset)"
      ],
      "metadata": {
        "id": "un5gq0Bzzl9M"
      },
      "execution_count": null,
      "outputs": []
    },
    {
      "cell_type": "code",
      "source": [
        "# plot predictions\n",
        "plot_predictions(predictions=ypreds)"
      ],
      "metadata": {
        "colab": {
          "base_uri": "https://localhost:8080/",
          "height": 599
        },
        "id": "DDWbx0efzpyd",
        "outputId": "a668e394-1496-4bd2-bfca-d9d219bf5035"
      },
      "execution_count": null,
      "outputs": [
        {
          "output_type": "display_data",
          "data": {
            "text/plain": [
              "<Figure size 700x700 with 1 Axes>"
            ],
            "image/png": "[encoded data removed]"
          },
          "metadata": {}
        }
      ]
    },
    {
      "cell_type": "code",
      "source": [
        "# set up loss function\n",
        "lossfn=nn.L1Loss()\n",
        "\n",
        "#set up optimiser\n",
        "optimiser=torch.optim.SGD(params=model.parameters(),lr=0.01)"
      ],
      "metadata": {
        "id": "Xr-KhuvNzvFC"
      },
      "execution_count": null,
      "outputs": []
    },
    {
      "cell_type": "code",
      "source": [
        "# train and test model\n",
        "\n",
        "epochs=200\n",
        "for epoch in range(epochs):\n",
        "  model.train() # turn on training mode\n",
        "  ypredictions=model(xtrainset) # make prediciotns\n",
        "  loss=lossfn(ypredictions,ytrainset) #calculate loss\n",
        "  optimiser.zero_grad() #set optimiser to zero\n",
        "  loss.backward() # back propogation\n",
        "  optimiser.step() #step optimiser\n",
        "\n",
        "  model.eval()\n",
        "  with torch.inference_mode():\n",
        "    ytestpreds=model(xtestset)\n",
        "    testloss=lossfn(ytestpreds,ytestset)\n",
        "\n",
        "  if epoch % 20 == 0:\n",
        "    print(f\"|epoch:{epoch}|,|trainloss:{loss}|,|testloss:{testloss}|\")"
      ],
      "metadata": {
        "colab": {
          "base_uri": "https://localhost:8080/"
        },
        "id": "ltY5A0Wj0CAa",
        "outputId": "b1fc9cc0-113f-4e8d-c1be-118cc64f4f8c"
      },
      "execution_count": null,
      "outputs": [
        {
          "output_type": "stream",
          "name": "stdout",
          "text": [
            "|epoch:0|,|trainloss:0.6628330945968628|,|testloss:0.6475843191146851|\n",
            "|epoch:20|,|trainloss:0.43241339921951294|,|testloss:0.3781646192073822|\n",
            "|epoch:40|,|trainloss:0.20199361443519592|,|testloss:0.10874490439891815|\n",
            "|epoch:60|,|trainloss:0.044978026300668716|,|testloss:0.0846061110496521|\n",
            "|epoch:80|,|trainloss:0.03658274561166763|,|testloss:0.08471589535474777|\n",
            "|epoch:100|,|trainloss:0.02971349097788334|,|testloss:0.0688578337430954|\n",
            "|epoch:120|,|trainloss:0.02284030243754387|,|testloss:0.052312932908535004|\n",
            "|epoch:140|,|trainloss:0.015975486487150192|,|testloss:0.036454938352108|\n",
            "|epoch:160|,|trainloss:0.00910956785082817|,|testloss:0.02059689722955227|\n",
            "|epoch:180|,|trainloss:0.002236062427982688|,|testloss:0.004738891031593084|\n"
          ]
        }
      ]
    },
    {
      "cell_type": "code",
      "source": [
        "# plot new preds\n",
        "plot_predictions(predictions=ytestpreds) # matplotlib works on numpy so change to cpu whenever required [x.to(cuda), or x.cpu()]"
      ],
      "metadata": {
        "colab": {
          "base_uri": "https://localhost:8080/",
          "height": 599
        },
        "id": "8EBxxF-10HLK",
        "outputId": "10b46a9b-4206-4d9a-a289-94ce28478620"
      },
      "execution_count": null,
      "outputs": [
        {
          "output_type": "display_data",
          "data": {
            "text/plain": [
              "<Figure size 700x700 with 1 Axes>"
            ],
            "image/png": "[encoded data removed]"
          },
          "metadata": {}
        }
      ]
    },
    {
      "cell_type": "code",
      "source": [
        "# save and load the model\n",
        "from pathlib import Path\n",
        "\n",
        "modelpath=Path('using_nn.Linear') #create save directory\n",
        "modelpath.mkdir(parents=True,exist_ok=True)\n",
        "modelname = \"linearmodel.pth\"\n",
        "modelsavepath=modelpath/modelname #create save path\n",
        "\n",
        "torch.save(obj=model.state_dict(),f=modelsavepath) #save model parameter\n",
        "# create a new instance\n",
        "loadedModel_0=Linearmodel()\n",
        "print(f\"before loading {loadedModel_0.state_dict()}\")\n",
        "# load the statedict of model to loadedmodel\n",
        "loadedModel_0.load_state_dict(torch.load(f=modelsavepath))\n",
        "print(loadedModel_0.state_dict())\n",
        "print(model.state_dict())"
      ],
      "metadata": {
        "colab": {
          "base_uri": "https://localhost:8080/"
        },
        "id": "NFw2DXrP44Zv",
        "outputId": "878a5b74-900e-4388-8894-0c3636260b97"
      },
      "execution_count": null,
      "outputs": [
        {
          "output_type": "stream",
          "name": "stdout",
          "text": [
            "before loading OrderedDict([('linear_layer.weight', tensor([[-0.8742]])), ('linear_layer.bias', tensor([0.8235]))])\n",
            "OrderedDict([('linear_layer.weight', tensor([[0.5032]])), ('linear_layer.bias', tensor([0.0438]))])\n",
            "OrderedDict([('linear_layer.weight', tensor([[0.5032]])), ('linear_layer.bias', tensor([0.0438]))])\n"
          ]
        },
        {
          "output_type": "stream",
          "name": "stderr",
          "text": [
            "<ipython-input-163-c22c224275fa>:14: FutureWarning: You are using `torch.load` with `weights_only=False` (the current default value), which uses the default pickle module implicitly. It is possible to construct malicious pickle data which will execute arbitrary code during unpickling (See https://github.com/pytorch/pytorch/blob/main/SECURITY.md#untrusted-models for more details). In a future release, the default value for `weights_only` will be flipped to `True`. This limits the functions that could be executed during unpickling. Arbitrary objects will no longer be allowed to be loaded via this mode unless they are explicitly allowlisted by the user via `torch.serialization.add_safe_globals`. We recommend you start setting `weights_only=True` for any use case where you don't have full control of the loaded file. Please open an issue on GitHub for any issues related to this experimental feature.\n",
            "  loadedModel_0.load_state_dict(torch.load(f=modelsavepath))\n"
          ]
        }
      ]
    },
    {
      "cell_type": "code",
      "source": [
        "# evaluate the model\n",
        "with torch.inference_mode():\n",
        "  savedpreds=model(xtestset)\n",
        "  loadedpreds=loadedModel_0(xtestset)\n",
        "\n",
        "savedpreds==loadedpreds"
      ],
      "metadata": {
        "colab": {
          "base_uri": "https://localhost:8080/"
        },
        "id": "Mg-sdWt46Bik",
        "outputId": "d94754e1-e176-4314-9e6d-e552a47a33c7"
      },
      "execution_count": null,
      "outputs": [
        {
          "output_type": "execute_result",
          "data": {
            "text/plain": [
              "tensor([[True],\n",
              "        [True],\n",
              "        [True],\n",
              "        [True],\n",
              "        [True],\n",
              "        [True],\n",
              "        [True],\n",
              "        [True],\n",
              "        [True],\n",
              "        [True]])"
            ]
          },
          "metadata": {},
          "execution_count": 164
        }
      ]
    },
    {
      "cell_type": "markdown",
      "source": [],
      "metadata": {
        "id": "BoGC_1Pk-VsQ"
      }
    },
    {
      "cell_type": "markdown",
      "source": [],
      "metadata": {
        "id": "yCUY70Rw__Vd"
      }
    }
  ]
}