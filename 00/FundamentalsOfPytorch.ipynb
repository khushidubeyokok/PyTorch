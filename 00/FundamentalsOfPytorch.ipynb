{
  "nbformat": 4,
  "nbformat_minor": 0,
  "metadata": {
    "colab": {
      "provenance": [],
      "collapsed_sections": [
        "MVvHxQGZ-fLe"
      ],
      "gpuType": "T4",
      "authorship_tag": "ABX9TyMyBJODxhRa28B78OiVmfAo",
      "include_colab_link": true
    },
    "kernelspec": {
      "name": "python3",
      "display_name": "Python 3"
    },
    "language_info": {
      "name": "python"
    },
    "accelerator": "GPU"
  },
  "cells": [
    {
      "cell_type": "markdown",
      "metadata": {
        "id": "view-in-github",
        "colab_type": "text"
      },
      "source": [
        "<a href=\"https://colab.research.google.com/github/khushidubeyokok/PyTorch/blob/main/FundamentalsOfPytorch.ipynb\" target=\"_parent\"><img src=\"https://colab.research.google.com/assets/colab-badge.svg\" alt=\"Open In Colab\"/></a>"
      ]
    },
    {
      "cell_type": "markdown",
      "source": [
        "# **PyTorch**"
      ],
      "metadata": {
        "id": "58-BA-M_qeSD"
      }
    },
    {
      "cell_type": "markdown",
      "source": [
        "import important libraries\n"
      ],
      "metadata": {
        "id": "wuuHPQhIq5Cy"
      }
    },
    {
      "cell_type": "code",
      "source": [
        "import torch\n",
        "import pandas as pd\n",
        "import numpy as np\n",
        "import matplotlib as md\n",
        "print(torch.__version__)"
      ],
      "metadata": {
        "colab": {
          "base_uri": "https://localhost:8080/"
        },
        "id": "Sf4nnYG9rBsE",
        "outputId": "174ba13f-0cc8-49dc-aa75-cdce7c3d3156"
      },
      "execution_count": 127,
      "outputs": [
        {
          "output_type": "stream",
          "name": "stdout",
          "text": [
            "2.4.0+cu121\n"
          ]
        }
      ]
    },
    {
      "cell_type": "markdown",
      "source": [
        "## Creating Tensors\n"
      ],
      "metadata": {
        "id": "lkNU4yIfrVrs"
      }
    },
    {
      "cell_type": "markdown",
      "source": [
        "**Scalar** **Tensors**"
      ],
      "metadata": {
        "id": "mYA0ypBBsuJ_"
      }
    },
    {
      "cell_type": "code",
      "source": [
        "Scalar_Tensor = torch.tensor(7)\n",
        "Scalar_Tensor , Scalar_Tensor.dtype"
      ],
      "metadata": {
        "colab": {
          "base_uri": "https://localhost:8080/"
        },
        "id": "TcxOMXYprygv",
        "outputId": "edfdd591-576b-42ef-ef7b-587b407ebc2c"
      },
      "execution_count": 5,
      "outputs": [
        {
          "output_type": "execute_result",
          "data": {
            "text/plain": [
              "(tensor(7), torch.int64)"
            ]
          },
          "metadata": {},
          "execution_count": 5
        }
      ]
    },
    {
      "cell_type": "code",
      "source": [
        "Scalar_Tensor.ndim ##returns dimensions"
      ],
      "metadata": {
        "colab": {
          "base_uri": "https://localhost:8080/"
        },
        "id": "ilioF7wJsDm-",
        "outputId": "e03c9ce3-c90c-4926-d16e-8e54712d58e7"
      },
      "execution_count": 3,
      "outputs": [
        {
          "output_type": "execute_result",
          "data": {
            "text/plain": [
              "0"
            ]
          },
          "metadata": {},
          "execution_count": 3
        }
      ]
    },
    {
      "cell_type": "code",
      "source": [
        " Scalar_Tensor.item() ##Returns the value of this tensor as a standard Python number."
      ],
      "metadata": {
        "colab": {
          "base_uri": "https://localhost:8080/"
        },
        "id": "O2jKR9h3sNMQ",
        "outputId": "c2636358-fba4-4fac-a1c9-0e1712980037"
      },
      "execution_count": 4,
      "outputs": [
        {
          "output_type": "execute_result",
          "data": {
            "text/plain": [
              "7"
            ]
          },
          "metadata": {},
          "execution_count": 4
        }
      ]
    },
    {
      "cell_type": "markdown",
      "source": [
        "**Vectors**"
      ],
      "metadata": {
        "id": "_NNt-lSnsw9a"
      }
    },
    {
      "cell_type": "code",
      "source": [
        "vector=torch.tensor([7,7])\n",
        "vector , vector.dtype"
      ],
      "metadata": {
        "colab": {
          "base_uri": "https://localhost:8080/"
        },
        "id": "q2gOFjLlsqOd",
        "outputId": "a715615a-f502-41d2-ea5b-380c79d1f1de"
      },
      "execution_count": 7,
      "outputs": [
        {
          "output_type": "execute_result",
          "data": {
            "text/plain": [
              "(tensor([7, 7]), torch.int64)"
            ]
          },
          "metadata": {},
          "execution_count": 7
        }
      ]
    },
    {
      "cell_type": "code",
      "source": [
        "vector.ndim ##number of dimensions"
      ],
      "metadata": {
        "colab": {
          "base_uri": "https://localhost:8080/"
        },
        "id": "Xo3muxN0s5yT",
        "outputId": "d685b8e9-0ba6-4a26-df7d-368afaa76e17"
      },
      "execution_count": 8,
      "outputs": [
        {
          "output_type": "execute_result",
          "data": {
            "text/plain": [
              "1"
            ]
          },
          "metadata": {},
          "execution_count": 8
        }
      ]
    },
    {
      "cell_type": "code",
      "source": [
        "vector.shape ,  vector.size() ##returns size of the tensor"
      ],
      "metadata": {
        "colab": {
          "base_uri": "https://localhost:8080/"
        },
        "id": "Gy4QUVT4tBZG",
        "outputId": "0e1ecd7f-9707-4a6d-ab59-20110d4ff9df"
      },
      "execution_count": 11,
      "outputs": [
        {
          "output_type": "execute_result",
          "data": {
            "text/plain": [
              "(torch.Size([2]), torch.Size([2]))"
            ]
          },
          "metadata": {},
          "execution_count": 11
        }
      ]
    },
    {
      "cell_type": "code",
      "source": [
        "vector[0] ##returns element at index 0"
      ],
      "metadata": {
        "colab": {
          "base_uri": "https://localhost:8080/"
        },
        "id": "mHrqHeh4tRJJ",
        "outputId": "86870f88-8eb6-4722-ba3e-c756d947610d"
      },
      "execution_count": 12,
      "outputs": [
        {
          "output_type": "execute_result",
          "data": {
            "text/plain": [
              "tensor(7)"
            ]
          },
          "metadata": {},
          "execution_count": 12
        }
      ]
    },
    {
      "cell_type": "code",
      "source": [
        "# vector.item() # error cannot be converted to scalar"
      ],
      "metadata": {
        "id": "2xXsmX0dtdpB"
      },
      "execution_count": 128,
      "outputs": []
    },
    {
      "cell_type": "markdown",
      "source": [
        "**MATRICES**"
      ],
      "metadata": {
        "id": "FOG5J1RMtfrk"
      }
    },
    {
      "cell_type": "code",
      "source": [
        "MATRIX = torch.tensor([[7,8],[9,10]])\n",
        "MATRIX , MATRIX.dtype"
      ],
      "metadata": {
        "colab": {
          "base_uri": "https://localhost:8080/"
        },
        "id": "zYXtmtNyth2n",
        "outputId": "34c870b6-4139-4136-ae2f-d5b9bbdec8d6"
      },
      "execution_count": 14,
      "outputs": [
        {
          "output_type": "execute_result",
          "data": {
            "text/plain": [
              "(tensor([[ 7,  8],\n",
              "         [ 9, 10]]),\n",
              " torch.int64)"
            ]
          },
          "metadata": {},
          "execution_count": 14
        }
      ]
    },
    {
      "cell_type": "code",
      "source": [
        "MATRIX.ndim"
      ],
      "metadata": {
        "colab": {
          "base_uri": "https://localhost:8080/"
        },
        "id": "XpLgEXgHtnZW",
        "outputId": "c82ee030-c883-4183-d37f-1e5ea9281a27"
      },
      "execution_count": 15,
      "outputs": [
        {
          "output_type": "execute_result",
          "data": {
            "text/plain": [
              "2"
            ]
          },
          "metadata": {},
          "execution_count": 15
        }
      ]
    },
    {
      "cell_type": "code",
      "source": [
        "MATRIX.shape ##it has two rows and two columns"
      ],
      "metadata": {
        "colab": {
          "base_uri": "https://localhost:8080/"
        },
        "id": "7TteynXUtrRK",
        "outputId": "8fd23895-257e-4f1f-cfb5-c821f0daea39"
      },
      "execution_count": 16,
      "outputs": [
        {
          "output_type": "execute_result",
          "data": {
            "text/plain": [
              "torch.Size([2, 2])"
            ]
          },
          "metadata": {},
          "execution_count": 16
        }
      ]
    },
    {
      "cell_type": "code",
      "source": [
        "MATRIX[0]"
      ],
      "metadata": {
        "colab": {
          "base_uri": "https://localhost:8080/"
        },
        "id": "qAPWHhUvt4K1",
        "outputId": "35212801-6ac5-41ce-8113-6dee36041200"
      },
      "execution_count": 17,
      "outputs": [
        {
          "output_type": "execute_result",
          "data": {
            "text/plain": [
              "tensor([7, 8])"
            ]
          },
          "metadata": {},
          "execution_count": 17
        }
      ]
    },
    {
      "cell_type": "markdown",
      "source": [
        "**TENSORS**"
      ],
      "metadata": {
        "id": "zptWoVMft-5d"
      }
    },
    {
      "cell_type": "code",
      "source": [
        "TENSOR = torch.tensor([[[1,2,3],[3,6,9],[2,4,5]]])\n",
        "TENSOR , TENSOR.dtype"
      ],
      "metadata": {
        "colab": {
          "base_uri": "https://localhost:8080/"
        },
        "id": "XDTFsoV9uANf",
        "outputId": "bed42fcc-77a1-435e-b1ea-17cecc0f3ce1"
      },
      "execution_count": 18,
      "outputs": [
        {
          "output_type": "execute_result",
          "data": {
            "text/plain": [
              "(tensor([[[1, 2, 3],\n",
              "          [3, 6, 9],\n",
              "          [2, 4, 5]]]),\n",
              " torch.int64)"
            ]
          },
          "metadata": {},
          "execution_count": 18
        }
      ]
    },
    {
      "cell_type": "code",
      "source": [
        "  TENSOR.ndim"
      ],
      "metadata": {
        "colab": {
          "base_uri": "https://localhost:8080/"
        },
        "id": "CHP1Yt8FuNf9",
        "outputId": "b8aa6a82-9fd7-498f-b9e3-1c587cccc7c9"
      },
      "execution_count": 20,
      "outputs": [
        {
          "output_type": "execute_result",
          "data": {
            "text/plain": [
              "3"
            ]
          },
          "metadata": {},
          "execution_count": 20
        }
      ]
    },
    {
      "cell_type": "code",
      "source": [
        "TENSOR.shape ##dim0=1, dim1=3, dim2=3"
      ],
      "metadata": {
        "colab": {
          "base_uri": "https://localhost:8080/"
        },
        "id": "X-hvnsSruSDp",
        "outputId": "a8d343a6-811b-40bf-eda4-2c4f354caff0"
      },
      "execution_count": 21,
      "outputs": [
        {
          "output_type": "execute_result",
          "data": {
            "text/plain": [
              "torch.Size([1, 3, 3])"
            ]
          },
          "metadata": {},
          "execution_count": 21
        }
      ]
    },
    {
      "cell_type": "code",
      "source": [
        "TENSOR[0]"
      ],
      "metadata": {
        "colab": {
          "base_uri": "https://localhost:8080/"
        },
        "id": "HCd5O07fucNl",
        "outputId": "ca18940c-2e63-4d4f-c4d4-ffc6be6a3b7d"
      },
      "execution_count": 22,
      "outputs": [
        {
          "output_type": "execute_result",
          "data": {
            "text/plain": [
              "tensor([[1, 2, 3],\n",
              "        [3, 6, 9],\n",
              "        [2, 4, 5]])"
            ]
          },
          "metadata": {},
          "execution_count": 22
        }
      ]
    },
    {
      "cell_type": "code",
      "source": [
        "TENSOR2 = torch.tensor([[  [1,2,3],[3,6,9],[2,4,5]] , [[1,2,3],[3,6,8],[2,4,6]  ]])\n",
        "TENSOR2 , TENSOR2.dtype"
      ],
      "metadata": {
        "colab": {
          "base_uri": "https://localhost:8080/"
        },
        "id": "Obe9Zekcug4L",
        "outputId": "a1fb55c3-a032-4354-b34d-2a587a8d5767"
      },
      "execution_count": 31,
      "outputs": [
        {
          "output_type": "execute_result",
          "data": {
            "text/plain": [
              "(tensor([[[1, 2, 3],\n",
              "          [3, 6, 9],\n",
              "          [2, 4, 5]],\n",
              " \n",
              "         [[1, 2, 3],\n",
              "          [3, 6, 8],\n",
              "          [2, 4, 6]]]),\n",
              " torch.int64)"
            ]
          },
          "metadata": {},
          "execution_count": 31
        }
      ]
    },
    {
      "cell_type": "code",
      "source": [
        "TENSOR2.ndim"
      ],
      "metadata": {
        "colab": {
          "base_uri": "https://localhost:8080/"
        },
        "id": "Au0lDGZMu1U9",
        "outputId": "40f27556-5eb2-4f3f-eb71-e953a5503034"
      },
      "execution_count": 32,
      "outputs": [
        {
          "output_type": "execute_result",
          "data": {
            "text/plain": [
              "3"
            ]
          },
          "metadata": {},
          "execution_count": 32
        }
      ]
    },
    {
      "cell_type": "code",
      "source": [
        "TENSOR2.shape ##dim0=2, dim1=3, dim2=3"
      ],
      "metadata": {
        "colab": {
          "base_uri": "https://localhost:8080/"
        },
        "id": "PT6vR66ivH88",
        "outputId": "6d6eb14c-a8c7-4183-c523-d893d48cd7b3"
      },
      "execution_count": 33,
      "outputs": [
        {
          "output_type": "execute_result",
          "data": {
            "text/plain": [
              "torch.Size([2, 3, 3])"
            ]
          },
          "metadata": {},
          "execution_count": 33
        }
      ]
    },
    {
      "cell_type": "code",
      "source": [
        "TENSOR2[1]"
      ],
      "metadata": {
        "colab": {
          "base_uri": "https://localhost:8080/"
        },
        "id": "LzFOg84gvLeg",
        "outputId": "95021d77-dc24-433c-9ad0-a64284852f22"
      },
      "execution_count": 34,
      "outputs": [
        {
          "output_type": "execute_result",
          "data": {
            "text/plain": [
              "tensor([[1, 2, 3],\n",
              "        [3, 6, 8],\n",
              "        [2, 4, 6]])"
            ]
          },
          "metadata": {},
          "execution_count": 34
        }
      ]
    },
    {
      "cell_type": "markdown",
      "source": [
        "## CREATING RANDOM TENSORS"
      ],
      "metadata": {
        "id": "v5rif29VvSAL"
      }
    },
    {
      "cell_type": "code",
      "source": [
        "RandomTensor = torch.rand(3,4)\n",
        "RandomTensor , RandomTensor.dtype"
      ],
      "metadata": {
        "colab": {
          "base_uri": "https://localhost:8080/"
        },
        "id": "YRh3wqRnvXBy",
        "outputId": "e525073e-b6de-4447-f8ae-c03a70e1fa33"
      },
      "execution_count": null,
      "outputs": [
        {
          "output_type": "execute_result",
          "data": {
            "text/plain": [
              "(tensor([[0.4396, 0.9576, 0.4284, 0.7377],\n",
              "         [0.5174, 0.9436, 0.7971, 0.4120],\n",
              "         [0.5236, 0.7383, 0.4095, 0.2511]]),\n",
              " torch.float32)"
            ]
          },
          "metadata": {},
          "execution_count": 35
        }
      ]
    },
    {
      "cell_type": "code",
      "source": [
        "RandomTensor.ndim"
      ],
      "metadata": {
        "colab": {
          "base_uri": "https://localhost:8080/"
        },
        "id": "VI-1AaifvegO",
        "outputId": "dd92a91c-41d1-41cf-d8eb-ff6bbebd9a49"
      },
      "execution_count": null,
      "outputs": [
        {
          "output_type": "execute_result",
          "data": {
            "text/plain": [
              "2"
            ]
          },
          "metadata": {},
          "execution_count": 36
        }
      ]
    },
    {
      "cell_type": "markdown",
      "source": [
        "**ZEROES** **TENSOR**"
      ],
      "metadata": {
        "id": "lzrh1irGvmut"
      }
    },
    {
      "cell_type": "code",
      "source": [
        "zeroTensor=torch.zeros(size=(3,4,5))\n",
        "zeroTensor\n"
      ],
      "metadata": {
        "colab": {
          "base_uri": "https://localhost:8080/"
        },
        "id": "NgEVQW-mvicC",
        "outputId": "a828d4d8-0f8c-479c-cb86-860220a9455b"
      },
      "execution_count": null,
      "outputs": [
        {
          "output_type": "execute_result",
          "data": {
            "text/plain": [
              "tensor([[[0., 0., 0., 0., 0.],\n",
              "         [0., 0., 0., 0., 0.],\n",
              "         [0., 0., 0., 0., 0.],\n",
              "         [0., 0., 0., 0., 0.]],\n",
              "\n",
              "        [[0., 0., 0., 0., 0.],\n",
              "         [0., 0., 0., 0., 0.],\n",
              "         [0., 0., 0., 0., 0.],\n",
              "         [0., 0., 0., 0., 0.]],\n",
              "\n",
              "        [[0., 0., 0., 0., 0.],\n",
              "         [0., 0., 0., 0., 0.],\n",
              "         [0., 0., 0., 0., 0.],\n",
              "         [0., 0., 0., 0., 0.]]])"
            ]
          },
          "metadata": {},
          "execution_count": 37
        }
      ]
    },
    {
      "cell_type": "markdown",
      "source": [
        "**ONES** **TENSOR**"
      ],
      "metadata": {
        "id": "ONtgGYmHvuhV"
      }
    },
    {
      "cell_type": "code",
      "source": [
        "OnesTensor=torch.ones(5,2,2)\n",
        "OnesTensor"
      ],
      "metadata": {
        "colab": {
          "base_uri": "https://localhost:8080/"
        },
        "id": "joRD2TZOvv95",
        "outputId": "d8b54b3e-dd20-4d55-fdd9-624ce5528901"
      },
      "execution_count": null,
      "outputs": [
        {
          "output_type": "execute_result",
          "data": {
            "text/plain": [
              "tensor([[[1., 1.],\n",
              "         [1., 1.]],\n",
              "\n",
              "        [[1., 1.],\n",
              "         [1., 1.]],\n",
              "\n",
              "        [[1., 1.],\n",
              "         [1., 1.]],\n",
              "\n",
              "        [[1., 1.],\n",
              "         [1., 1.]],\n",
              "\n",
              "        [[1., 1.],\n",
              "         [1., 1.]]])"
            ]
          },
          "metadata": {},
          "execution_count": 39
        }
      ]
    },
    {
      "cell_type": "markdown",
      "source": [
        "## Range of tensors and like tensors"
      ],
      "metadata": {
        "id": "KU00VfQ_wMKX"
      }
    },
    {
      "cell_type": "code",
      "source": [
        "RangeTensor=torch.arange(0,10,2) ##start,end,step\n",
        "RangeTensor"
      ],
      "metadata": {
        "colab": {
          "base_uri": "https://localhost:8080/"
        },
        "id": "So465J88wSPJ",
        "outputId": "163c7a6f-19cf-4e14-834e-5080aac95ba9"
      },
      "execution_count": 41,
      "outputs": [
        {
          "output_type": "execute_result",
          "data": {
            "text/plain": [
              "tensor([0, 2, 4, 6, 8])"
            ]
          },
          "metadata": {},
          "execution_count": 41
        }
      ]
    },
    {
      "cell_type": "code",
      "source": [
        "AlikeTensor=torch.zeros_like(input=RangeTensor)\n",
        "AlikeTensor"
      ],
      "metadata": {
        "colab": {
          "base_uri": "https://localhost:8080/"
        },
        "id": "OZFjkSQxwcwo",
        "outputId": "c483e7e2-0640-494b-b655-13d00a776954"
      },
      "execution_count": 42,
      "outputs": [
        {
          "output_type": "execute_result",
          "data": {
            "text/plain": [
              "tensor([0, 0, 0, 0, 0])"
            ]
          },
          "metadata": {},
          "execution_count": 42
        }
      ]
    },
    {
      "cell_type": "markdown",
      "source": [
        "##Getting information from tensors"
      ],
      "metadata": {
        "id": "E47HKWo0wzYy"
      }
    },
    {
      "cell_type": "code",
      "source": [
        "a=torch.tensor([5.,6.5])\n",
        "b=a.type(torch.float16)\n",
        "a.dtype, b.dtype , a.device"
      ],
      "metadata": {
        "colab": {
          "base_uri": "https://localhost:8080/"
        },
        "id": "ANaa0rJ9w2px",
        "outputId": "c9d0a4f6-50c9-46ff-c41c-9ecd9391b041"
      },
      "execution_count": 44,
      "outputs": [
        {
          "output_type": "execute_result",
          "data": {
            "text/plain": [
              "(torch.float32, torch.float16, device(type='cpu'))"
            ]
          },
          "metadata": {},
          "execution_count": 44
        }
      ]
    },
    {
      "cell_type": "code",
      "source": [
        "a=torch.tensor([5.2,6.5])\n",
        "print(a)\n",
        "print(f\"Datatype of tensor : {a.dtype}\")\n",
        "print(f\"Shape of tensor : {a.shape}\")\n",
        "print(f\"Device tensor is on : {a.device}\")\n"
      ],
      "metadata": {
        "colab": {
          "base_uri": "https://localhost:8080/"
        },
        "id": "kaBkMV5KxAaI",
        "outputId": "9f144284-ba0d-4bf7-aefb-dab60784f783"
      },
      "execution_count": 45,
      "outputs": [
        {
          "output_type": "stream",
          "name": "stdout",
          "text": [
            "tensor([5.2000, 6.5000])\n",
            "Datatype of tensor : torch.float32\n",
            "Shape of tensor : torch.Size([2])\n",
            "Device tensor is on : cpu\n"
          ]
        }
      ]
    },
    {
      "cell_type": "markdown",
      "source": [],
      "metadata": {
        "id": "H3H3cl5Oy5vY"
      }
    },
    {
      "cell_type": "markdown",
      "source": [
        "## TENSOR OPERATIONS\n",
        "\n",
        "- Addition\n",
        "- Substraction\n",
        "- Multiplication (element-wise)\n",
        "- Division\n",
        "- Matrix multiplication"
      ],
      "metadata": {
        "id": "fSy5WEYKxgbx"
      }
    },
    {
      "cell_type": "code",
      "source": [
        "tensor=torch.tensor([1,2,3])\n",
        "tensor+10"
      ],
      "metadata": {
        "colab": {
          "base_uri": "https://localhost:8080/"
        },
        "id": "CO0QZNoRy8oV",
        "outputId": "908bc1ed-ed9d-4a03-b17c-c680a7b8c613"
      },
      "execution_count": 46,
      "outputs": [
        {
          "output_type": "execute_result",
          "data": {
            "text/plain": [
              "tensor([11, 12, 13])"
            ]
          },
          "metadata": {},
          "execution_count": 46
        }
      ]
    },
    {
      "cell_type": "code",
      "source": [
        "tensor-10"
      ],
      "metadata": {
        "colab": {
          "base_uri": "https://localhost:8080/"
        },
        "id": "u8W6V6CMzDfx",
        "outputId": "3283fd1d-ad2b-4079-ccbb-80fdd40458dc"
      },
      "execution_count": 47,
      "outputs": [
        {
          "output_type": "execute_result",
          "data": {
            "text/plain": [
              "tensor([-9, -8, -7])"
            ]
          },
          "metadata": {},
          "execution_count": 47
        }
      ]
    },
    {
      "cell_type": "code",
      "source": [
        "tensor*10"
      ],
      "metadata": {
        "colab": {
          "base_uri": "https://localhost:8080/"
        },
        "id": "6S7XSVjgzHJX",
        "outputId": "65078313-7428-4ed5-eef3-312edc200a81"
      },
      "execution_count": 48,
      "outputs": [
        {
          "output_type": "execute_result",
          "data": {
            "text/plain": [
              "tensor([10, 20, 30])"
            ]
          },
          "metadata": {},
          "execution_count": 48
        }
      ]
    },
    {
      "cell_type": "code",
      "source": [
        "tensor/10"
      ],
      "metadata": {
        "colab": {
          "base_uri": "https://localhost:8080/"
        },
        "id": "TI0IpBX6zJwu",
        "outputId": "67fd693f-9dff-49d3-f1c6-c73eafbf538a"
      },
      "execution_count": 49,
      "outputs": [
        {
          "output_type": "execute_result",
          "data": {
            "text/plain": [
              "tensor([0.1000, 0.2000, 0.3000])"
            ]
          },
          "metadata": {},
          "execution_count": 49
        }
      ]
    },
    {
      "cell_type": "code",
      "source": [
        "##Built-in function\n",
        "\n",
        "print(f\"Add : {torch.add(tensor,10)}\")\n",
        "print(f\"Sub : {torch.sub(tensor,10)}\")\n",
        "print(f\"Mul : {torch.mul(tensor,10)}\")\n",
        "print(f\"Div : {torch.div(tensor,10)}\")\n"
      ],
      "metadata": {
        "colab": {
          "base_uri": "https://localhost:8080/"
        },
        "id": "2jDr0SvNzy9t",
        "outputId": "d58168f4-1b9f-428e-b22d-77052d2091f3"
      },
      "execution_count": 51,
      "outputs": [
        {
          "output_type": "stream",
          "name": "stdout",
          "text": [
            "Add : tensor([11, 12, 13])\n",
            "Sub : tensor([-9, -8, -7])\n",
            "Mul : tensor([10, 20, 30])\n",
            "Div : tensor([0.1000, 0.2000, 0.3000])\n"
          ]
        }
      ]
    },
    {
      "cell_type": "markdown",
      "source": [
        "**MATRIX MULTIPLICATION**"
      ],
      "metadata": {
        "id": "OwFLrkcMzMS1"
      }
    },
    {
      "cell_type": "code",
      "source": [
        "a=torch.tensor([[1,2,3],[4,5,6]])\n",
        "b=torch.tensor([[4,5,6],[7,8,9]])\n",
        "c=b.T ##transpose\n",
        "\n",
        "a @ c , torch.matmul(a,c) , torch.mm(a,c)"
      ],
      "metadata": {
        "colab": {
          "base_uri": "https://localhost:8080/"
        },
        "id": "vpiWvX_CzxGd",
        "outputId": "51be7128-6453-4e70-acec-f0c325a82e49"
      },
      "execution_count": 58,
      "outputs": [
        {
          "output_type": "execute_result",
          "data": {
            "text/plain": [
              "(tensor([[ 32,  50],\n",
              "         [ 77, 122]]),\n",
              " tensor([[ 32,  50],\n",
              "         [ 77, 122]]),\n",
              " tensor([[ 32,  50],\n",
              "         [ 77, 122]]))"
            ]
          },
          "metadata": {},
          "execution_count": 58
        }
      ]
    },
    {
      "cell_type": "code",
      "source": [
        "vector=torch.tensor([2,3,4])\n",
        "vector2=torch.tensor([2,3,4])\n",
        "vector.dot(vector2) ##dot product of oneD tensors"
      ],
      "metadata": {
        "colab": {
          "base_uri": "https://localhost:8080/"
        },
        "id": "5r2SyEgJ10Ri",
        "outputId": "23374484-5998-4144-89fe-04a9c84d10ec"
      },
      "execution_count": 59,
      "outputs": [
        {
          "output_type": "execute_result",
          "data": {
            "text/plain": [
              "tensor(29)"
            ]
          },
          "metadata": {},
          "execution_count": 59
        }
      ]
    },
    {
      "cell_type": "markdown",
      "source": [
        "## FINDING MIN,MAX,MEAN,SUM\n"
      ],
      "metadata": {
        "id": "k9KeJfhM2KFB"
      }
    },
    {
      "cell_type": "code",
      "source": [
        "x=torch.tensor([2,3,5])\n",
        "print(f\"Min : {x.min()} , {torch.min(x)}\")\n",
        "print(f\"Max : {x.max()} , {torch.max(x)}\")\n",
        "## print(f\"Mean : {x.mean()} , {torch.mean(x)}\") , this will throw an error since x is of longint datatype\n",
        "print(f\"Mean : {x.type(torch.float32).mean()} , {torch.mean(x.type(torch.float32))}\")  ## mean function requires a float32 tensor to work\n",
        "print(f\"Sum : {x.sum()} , {torch.sum(x)}\")"
      ],
      "metadata": {
        "colab": {
          "base_uri": "https://localhost:8080/"
        },
        "id": "_ZY8oukg2Q61",
        "outputId": "2b111dca-b042-45d8-f602-41782d4d305a"
      },
      "execution_count": 63,
      "outputs": [
        {
          "output_type": "stream",
          "name": "stdout",
          "text": [
            "Min : 2 , 2\n",
            "Max : 5 , 5\n",
            "Mean : 3.3333332538604736 , 3.3333332538604736\n",
            "Sum : 10 , 10\n"
          ]
        }
      ]
    },
    {
      "cell_type": "code",
      "source": [
        "print(f\"Argmin : {x.argmin()} , {torch.argmin(x)}\")\n",
        "print(f\"Argmax : {x.argmax()} , {torch.argmax(x)}\")"
      ],
      "metadata": {
        "colab": {
          "base_uri": "https://localhost:8080/"
        },
        "id": "tVYeSeFh3aRz",
        "outputId": "9fd6df1f-4f8b-4bd4-a57b-afd5b785e1bd"
      },
      "execution_count": 64,
      "outputs": [
        {
          "output_type": "stream",
          "name": "stdout",
          "text": [
            "Argmin : 0 , 0\n",
            "Argmax : 2 , 2\n"
          ]
        }
      ]
    },
    {
      "cell_type": "markdown",
      "source": [
        "##Reshaping , stacking, squeezing , unsqueezing TENSORS\n",
        "- Reshape : Reshapes  input tensor to shape (if compatible)\n",
        "- View : Returns a view of the original tensor in a different shape but shares the same data as the original tensor.\n",
        "- Stack : Concatenates a sequence of tensors along a new dimension (dim), all tensors must be same size.\n",
        "- Squeeze : Squeezes  input tensor to remove all the dimenions with value 1\n",
        "- Unsqueeze : Returns input tensor with a dimension value of 1 added at dim\n",
        "- Permute : Returns a view of the original input with its dimensions permuted (rearranged) to dims.\n"
      ],
      "metadata": {
        "id": "f3wtzihR3jw3"
      }
    },
    {
      "cell_type": "code",
      "source": [
        "a = torch.rand(3,4)\n",
        "a.reshape(6,2)"
      ],
      "metadata": {
        "colab": {
          "base_uri": "https://localhost:8080/"
        },
        "id": "1_IEDF8V3sti",
        "outputId": "3672326e-17bf-482e-fa1e-bd667b303b77"
      },
      "execution_count": 74,
      "outputs": [
        {
          "output_type": "execute_result",
          "data": {
            "text/plain": [
              "tensor([[0.8823, 0.9150],\n",
              "        [0.3829, 0.9593],\n",
              "        [0.3904, 0.6009],\n",
              "        [0.2566, 0.7936],\n",
              "        [0.9408, 0.1332],\n",
              "        [0.9346, 0.5936]])"
            ]
          },
          "metadata": {},
          "execution_count": 74
        }
      ]
    },
    {
      "cell_type": "code",
      "source": [
        "b= a.view(6,2)\n",
        "b"
      ],
      "metadata": {
        "colab": {
          "base_uri": "https://localhost:8080/"
        },
        "id": "WIXUnaBH41tB",
        "outputId": "eded2965-0123-44f3-90e7-fba97f2bf809"
      },
      "execution_count": 68,
      "outputs": [
        {
          "output_type": "execute_result",
          "data": {
            "text/plain": [
              "tensor([[0.5876, 0.0956],\n",
              "        [0.4370, 0.0181],\n",
              "        [0.8670, 0.8392],\n",
              "        [0.2833, 0.4670],\n",
              "        [0.8740, 0.1161],\n",
              "        [0.0012, 0.8259]])"
            ]
          },
          "metadata": {},
          "execution_count": 68
        }
      ]
    },
    {
      "cell_type": "code",
      "source": [
        "y=torch.stack([x,x,x],dim=0)\n",
        "y"
      ],
      "metadata": {
        "colab": {
          "base_uri": "https://localhost:8080/"
        },
        "id": "-oOzKCA244di",
        "outputId": "ba85b2ff-703e-4694-b403-fd8768f5e67e"
      },
      "execution_count": 76,
      "outputs": [
        {
          "output_type": "execute_result",
          "data": {
            "text/plain": [
              "tensor([[2, 3, 5],\n",
              "        [2, 3, 5],\n",
              "        [2, 3, 5]])"
            ]
          },
          "metadata": {},
          "execution_count": 76
        }
      ]
    },
    {
      "cell_type": "code",
      "source": [
        "M=torch.rand(2,2,1,2,1)\n",
        "M"
      ],
      "metadata": {
        "colab": {
          "base_uri": "https://localhost:8080/"
        },
        "id": "Z72q88y75umI",
        "outputId": "56b4fc29-0ded-4e99-d58d-ae92d7e2ed2d"
      },
      "execution_count": 80,
      "outputs": [
        {
          "output_type": "execute_result",
          "data": {
            "text/plain": [
              "tensor([[[[[0.7539],\n",
              "           [0.1952]]],\n",
              "\n",
              "\n",
              "         [[[0.0050],\n",
              "           [0.3068]]]],\n",
              "\n",
              "\n",
              "\n",
              "        [[[[0.1165],\n",
              "           [0.9103]]],\n",
              "\n",
              "\n",
              "         [[[0.6440],\n",
              "           [0.7071]]]]])"
            ]
          },
          "metadata": {},
          "execution_count": 80
        }
      ]
    },
    {
      "cell_type": "code",
      "source": [
        "print(f\"Shape : {M.shape}\")\n",
        "print(f\"Squeezed : {M.squeeze().shape}\")"
      ],
      "metadata": {
        "colab": {
          "base_uri": "https://localhost:8080/"
        },
        "id": "PG12Krvq6F2E",
        "outputId": "ba92782f-8023-486c-c1cd-e46b068be87c"
      },
      "execution_count": 81,
      "outputs": [
        {
          "output_type": "stream",
          "name": "stdout",
          "text": [
            "Shape : torch.Size([2, 2, 1, 2, 1])\n",
            "Squeezed : torch.Size([2, 2, 2])\n"
          ]
        }
      ]
    },
    {
      "cell_type": "code",
      "source": [
        "print(f\"Shape : {M.shape}\")\n",
        "print(f\"Unsqueezed : {M.unsqueeze(dim=0).shape}\")"
      ],
      "metadata": {
        "colab": {
          "base_uri": "https://localhost:8080/"
        },
        "id": "sdgb8GA-6Mfe",
        "outputId": "4673de46-a24a-4f79-d100-c17b2a2042f2"
      },
      "execution_count": 83,
      "outputs": [
        {
          "output_type": "stream",
          "name": "stdout",
          "text": [
            "Shape : torch.Size([2, 2, 1, 2, 1])\n",
            "Unsqueezed : torch.Size([1, 2, 2, 1, 2, 1])\n"
          ]
        }
      ]
    },
    {
      "cell_type": "code",
      "source": [
        "a.shape, a.permute(1,0).shape"
      ],
      "metadata": {
        "colab": {
          "base_uri": "https://localhost:8080/"
        },
        "id": "GHrhGQl-6Zf9",
        "outputId": "9fefe1fe-a038-4153-8851-bd595f19483b"
      },
      "execution_count": 85,
      "outputs": [
        {
          "output_type": "execute_result",
          "data": {
            "text/plain": [
              "(torch.Size([3, 4]), torch.Size([4, 3]))"
            ]
          },
          "metadata": {},
          "execution_count": 85
        }
      ]
    },
    {
      "cell_type": "markdown",
      "source": [
        "INDEXING AND CHANGING VALUES"
      ],
      "metadata": {
        "id": "A4HO7sPi6n30"
      }
    },
    {
      "cell_type": "code",
      "source": [
        "M[0],M[0,1,0]"
      ],
      "metadata": {
        "colab": {
          "base_uri": "https://localhost:8080/"
        },
        "id": "iK7xLUMI6sFy",
        "outputId": "1aa67ea7-2270-4fff-b025-b7a1f46640e8"
      },
      "execution_count": 88,
      "outputs": [
        {
          "output_type": "execute_result",
          "data": {
            "text/plain": [
              "(tensor([[[[0.7539],\n",
              "           [0.1952]]],\n",
              " \n",
              " \n",
              "         [[[0.0050],\n",
              "           [0.3068]]]]),\n",
              " tensor([[0.0050],\n",
              "         [0.3068]]))"
            ]
          },
          "metadata": {},
          "execution_count": 88
        }
      ]
    },
    {
      "cell_type": "code",
      "source": [
        "# use \":\" to select all of target dimension\n",
        "A=torch.tensor([[1,2,3],[4,5,6],[7,8,9]])\n",
        "A[:,2], A[0:3,1]"
      ],
      "metadata": {
        "colab": {
          "base_uri": "https://localhost:8080/"
        },
        "id": "v3RAmj926-uq",
        "outputId": "d40ee92f-fe6b-4f9a-9a38-94319ddddac5"
      },
      "execution_count": 95,
      "outputs": [
        {
          "output_type": "execute_result",
          "data": {
            "text/plain": [
              "(tensor([3, 6, 9]), tensor([2, 5, 8]))"
            ]
          },
          "metadata": {},
          "execution_count": 95
        }
      ]
    },
    {
      "cell_type": "code",
      "source": [
        "a=torch.tensor([[6,5],[6,5]])\n",
        "a[1,0]=5\n",
        "a"
      ],
      "metadata": {
        "colab": {
          "base_uri": "https://localhost:8080/"
        },
        "id": "51Viia0372O-",
        "outputId": "3df29bd2-0970-4e0f-8a43-1a6654e2089f"
      },
      "execution_count": 96,
      "outputs": [
        {
          "output_type": "execute_result",
          "data": {
            "text/plain": [
              "tensor([[6, 5],\n",
              "        [5, 5]])"
            ]
          },
          "metadata": {},
          "execution_count": 96
        }
      ]
    },
    {
      "cell_type": "markdown",
      "source": [
        "## Numpy and PyTorch\n",
        "- `torch.from_numpy(ndarray)` - NumPy array -> PyTorch tensor.\n",
        "- `torch.Tensor.numpy()` - PyTorch tensor -> NumPy array."
      ],
      "metadata": {
        "id": "Y3MZtRhx7_K6"
      }
    },
    {
      "cell_type": "code",
      "source": [
        "NumpyArray=np.arange(1.0,8.0)\n",
        "ArrayToTensor=torch.from_numpy(NumpyArray)\n",
        "NumpyArray, ArrayToTensor  ##NumPy arrays are created with the datatype float64 and if you convert it to a PyTorch tensor, it'll keep the same datatype"
      ],
      "metadata": {
        "colab": {
          "base_uri": "https://localhost:8080/"
        },
        "id": "FNDWSivE8A3y",
        "outputId": "7adef999-71cb-4ae2-8df6-0af064bb0a31"
      },
      "execution_count": 106,
      "outputs": [
        {
          "output_type": "execute_result",
          "data": {
            "text/plain": [
              "(array([1., 2., 3., 4., 5., 6., 7.]),\n",
              " tensor([1., 2., 3., 4., 5., 6., 7.], dtype=torch.float64))"
            ]
          },
          "metadata": {},
          "execution_count": 106
        }
      ]
    },
    {
      "cell_type": "code",
      "source": [
        "TensorToArray=torch.Tensor.numpy(ArrayToTensor)\n",
        "TensorToArray"
      ],
      "metadata": {
        "colab": {
          "base_uri": "https://localhost:8080/"
        },
        "id": "oOUade6s8a-1",
        "outputId": "163e62fb-75e5-4679-a033-a963a8b4d9e0"
      },
      "execution_count": 107,
      "outputs": [
        {
          "output_type": "execute_result",
          "data": {
            "text/plain": [
              "array([1., 2., 3., 4., 5., 6., 7.])"
            ]
          },
          "metadata": {},
          "execution_count": 107
        }
      ]
    },
    {
      "cell_type": "code",
      "source": [
        "ArrayToTensor=ArrayToTensor+1\n",
        "ArrayToTensor, NumpyArray ##intial array remains the same"
      ],
      "metadata": {
        "colab": {
          "base_uri": "https://localhost:8080/"
        },
        "id": "qGcFmEMf89u0",
        "outputId": "8e263b5f-3c17-483d-f780-a278891600cd"
      },
      "execution_count": 108,
      "outputs": [
        {
          "output_type": "execute_result",
          "data": {
            "text/plain": [
              "(tensor([2., 3., 4., 5., 6., 7., 8.], dtype=torch.float64),\n",
              " array([1., 2., 3., 4., 5., 6., 7.]))"
            ]
          },
          "metadata": {},
          "execution_count": 108
        }
      ]
    },
    {
      "cell_type": "markdown",
      "source": [
        "## REPRODUCIBILITY"
      ],
      "metadata": {
        "id": "cOEX57eq97ha"
      }
    },
    {
      "cell_type": "code",
      "source": [
        "RandomTensorA=torch.rand(3,4)\n",
        "RandomTensorB=torch.rand(3,4)\n",
        "print(f\"Tensor A : {RandomTensorA}\")\n",
        "print(f\"Tensor B : {RandomTensorB}\")"
      ],
      "metadata": {
        "colab": {
          "base_uri": "https://localhost:8080/"
        },
        "id": "Kva-oj7899E7",
        "outputId": "8305aeb9-a993-46f8-887f-04be52cfb792"
      },
      "execution_count": 109,
      "outputs": [
        {
          "output_type": "stream",
          "name": "stdout",
          "text": [
            "Tensor A : tensor([[0.6581, 0.4913, 0.8913, 0.1447],\n",
            "        [0.5315, 0.1587, 0.6542, 0.3278],\n",
            "        [0.6532, 0.3958, 0.9147, 0.2036]])\n",
            "Tensor B : tensor([[0.2018, 0.2018, 0.9497, 0.6666],\n",
            "        [0.9811, 0.0874, 0.0041, 0.1088],\n",
            "        [0.1637, 0.7025, 0.6790, 0.9155]])\n"
          ]
        }
      ]
    },
    {
      "cell_type": "markdown",
      "source": [
        "TAKE OUT RANDOMNESS"
      ],
      "metadata": {
        "id": "m9rbhB5k-Ldy"
      }
    },
    {
      "cell_type": "code",
      "source": [
        "torch.manual_seed(42)\n",
        "RandomTensorC=torch.rand(3,4)\n",
        "torch.manual_seed(42)\n",
        "RandomTensorD=torch.rand(3,4)\n",
        "print(f\"Tensor C : {RandomTensorC}\")\n",
        "print(f\"Tensor D : {RandomTensorD}\")"
      ],
      "metadata": {
        "colab": {
          "base_uri": "https://localhost:8080/"
        },
        "id": "-RxhK_fy-QY9",
        "outputId": "0fbc86ab-237e-4917-f590-c40d1ee1628d"
      },
      "execution_count": 110,
      "outputs": [
        {
          "output_type": "stream",
          "name": "stdout",
          "text": [
            "Tensor C : tensor([[0.8823, 0.9150, 0.3829, 0.9593],\n",
            "        [0.3904, 0.6009, 0.2566, 0.7936],\n",
            "        [0.9408, 0.1332, 0.9346, 0.5936]])\n",
            "Tensor D : tensor([[0.8823, 0.9150, 0.3829, 0.9593],\n",
            "        [0.3904, 0.6009, 0.2566, 0.7936],\n",
            "        [0.9408, 0.1332, 0.9346, 0.5936]])\n"
          ]
        }
      ]
    },
    {
      "cell_type": "markdown",
      "source": [
        "## GPUs and Pytorch"
      ],
      "metadata": {
        "id": "MVvHxQGZ-fLe"
      }
    },
    {
      "cell_type": "code",
      "source": [
        "!nvidia-smi ## gives gpu details on colab\n",
        "torch.cuda.is_available()"
      ],
      "metadata": {
        "colab": {
          "base_uri": "https://localhost:8080/"
        },
        "id": "d6wtizXp-jiK",
        "outputId": "0007b96d-2636-4e11-a929-8f732392b419"
      },
      "execution_count": 113,
      "outputs": [
        {
          "output_type": "stream",
          "name": "stdout",
          "text": [
            "/bin/bash: line 1: nvidia-smi: command not found\n"
          ]
        },
        {
          "output_type": "execute_result",
          "data": {
            "text/plain": [
              "False"
            ]
          },
          "metadata": {},
          "execution_count": 113
        }
      ]
    },
    {
      "cell_type": "code",
      "source": [
        "# Set device type\n",
        "device = \"cuda\" if torch.cuda.is_available() else \"cpu\"\n",
        "device"
      ],
      "metadata": {
        "colab": {
          "base_uri": "https://localhost:8080/",
          "height": 36
        },
        "id": "8VAGQuIB_AiG",
        "outputId": "4b970730-8aff-41d1-8ddf-5baef0d3ce85"
      },
      "execution_count": 114,
      "outputs": [
        {
          "output_type": "execute_result",
          "data": {
            "text/plain": [
              "'cpu'"
            ],
            "application/vnd.google.colaboratory.intrinsic+json": {
              "type": "string"
            }
          },
          "metadata": {},
          "execution_count": 114
        }
      ]
    },
    {
      "cell_type": "code",
      "source": [
        "# Count number of devices\n",
        "torch.cuda.device_count()"
      ],
      "metadata": {
        "colab": {
          "base_uri": "https://localhost:8080/"
        },
        "id": "iJH0m4Ef_Ipv",
        "outputId": "a450019b-fc80-4666-e9e6-49dad44fc9b0"
      },
      "execution_count": 115,
      "outputs": [
        {
          "output_type": "execute_result",
          "data": {
            "text/plain": [
              "0"
            ]
          },
          "metadata": {},
          "execution_count": 115
        }
      ]
    },
    {
      "cell_type": "code",
      "source": [
        "# Create tensor (default on CPU)\n",
        "a = torch.tensor([1, 2, 3])\n",
        "\n",
        "# Tensor not on GPU\n",
        "print(a, a.device)\n",
        "\n",
        "# Move tensor to GPU (if available)\n",
        "tensor_on_gpu = a.to(device)\n",
        "tensor_on_gpu,tensor_on_gpu.device"
      ],
      "metadata": {
        "colab": {
          "base_uri": "https://localhost:8080/"
        },
        "id": "kEI0Jymx_Qhy",
        "outputId": "a3a77e3a-31f5-4238-f59d-41b53124a681"
      },
      "execution_count": 119,
      "outputs": [
        {
          "output_type": "stream",
          "name": "stdout",
          "text": [
            "tensor([1, 2, 3]) cpu\n"
          ]
        },
        {
          "output_type": "execute_result",
          "data": {
            "text/plain": [
              "(tensor([1, 2, 3]), device(type='cpu'))"
            ]
          },
          "metadata": {},
          "execution_count": 119
        }
      ]
    },
    {
      "cell_type": "code",
      "source": [
        "# numpy works on cpu\n",
        "# tensor_on_gpu.numpy() ##error\n",
        "tensor_back_on_cpu = tensor_on_gpu.cpu().numpy()\n",
        "print(tensor_back_on_cpu)\n",
        "print(tensor_on_gpu) # it remains the same on gpu"
      ],
      "metadata": {
        "colab": {
          "base_uri": "https://localhost:8080/"
        },
        "id": "R1HdiAhr_eeT",
        "outputId": "5f144353-7936-497c-80c6-89415f5da7d9"
      },
      "execution_count": 125,
      "outputs": [
        {
          "output_type": "stream",
          "name": "stdout",
          "text": [
            "[1 2 3]\n",
            "tensor([1, 2, 3])\n"
          ]
        }
      ]
    }
  ]
}
